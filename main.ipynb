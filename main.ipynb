{
 "cells": [
  {
   "cell_type": "code",
   "execution_count": 188,
   "metadata": {},
   "outputs": [],
   "source": [
    "import pandas as pd\n",
    "from collections import defaultdict\n",
    "import math\n",
    "from typing import List, Dict\n",
    "from bisect import bisect_left\n"
   ]
  },
  {
   "cell_type": "code",
   "execution_count": 189,
   "metadata": {},
   "outputs": [],
   "source": [
    "# Global variables\n",
    "currencies : List[str] = list()"
   ]
  },
  {
   "cell_type": "code",
   "execution_count": 190,
   "metadata": {},
   "outputs": [
    {
     "data": {
      "text/plain": [
       "(136, 9)"
      ]
     },
     "execution_count": 190,
     "metadata": {},
     "output_type": "execute_result"
    }
   ],
   "source": [
    "df = pd.read_csv(\"./dataset/current_price.csv\")\n",
    "# df = pd.read_csv(\"./dataset/mock.csv\")\n",
    "df.shape"
   ]
  },
  {
   "cell_type": "code",
   "execution_count": 191,
   "metadata": {},
   "outputs": [
    {
     "data": {
      "text/html": [
       "<div>\n",
       "<style scoped>\n",
       "    .dataframe tbody tr th:only-of-type {\n",
       "        vertical-align: middle;\n",
       "    }\n",
       "\n",
       "    .dataframe tbody tr th {\n",
       "        vertical-align: top;\n",
       "    }\n",
       "\n",
       "    .dataframe thead th {\n",
       "        text-align: right;\n",
       "    }\n",
       "</style>\n",
       "<table border=\"1\" class=\"dataframe\">\n",
       "  <thead>\n",
       "    <tr style=\"text-align: right;\">\n",
       "      <th></th>\n",
       "      <th>Financial instrument</th>\n",
       "      <th>Current price</th>\n",
       "      <th>Change(%)</th>\n",
       "      <th>Open</th>\n",
       "      <th>High</th>\n",
       "      <th>Low</th>\n",
       "      <th>Volume</th>\n",
       "      <th>Cap.</th>\n",
       "      <th>Issued Cap.</th>\n",
       "    </tr>\n",
       "  </thead>\n",
       "  <tbody>\n",
       "    <tr>\n",
       "      <th>0</th>\n",
       "      <td>AUD/CAD</td>\n",
       "      <td>0.91530</td>\n",
       "      <td>-0.12%</td>\n",
       "      <td>0.91650</td>\n",
       "      <td>0.91710</td>\n",
       "      <td>0.91380</td>\n",
       "      <td>86,310</td>\n",
       "      <td>-</td>\n",
       "      <td>-</td>\n",
       "    </tr>\n",
       "    <tr>\n",
       "      <th>1</th>\n",
       "      <td>AUD/CHF</td>\n",
       "      <td>0.57110</td>\n",
       "      <td>+0.56%</td>\n",
       "      <td>0.56790</td>\n",
       "      <td>0.57320</td>\n",
       "      <td>0.56670</td>\n",
       "      <td>88,365</td>\n",
       "      <td>-</td>\n",
       "      <td>-</td>\n",
       "    </tr>\n",
       "    <tr>\n",
       "      <th>2</th>\n",
       "      <td>AUD/CNH</td>\n",
       "      <td>4.68318</td>\n",
       "      <td>-0.01%</td>\n",
       "      <td>4.68361</td>\n",
       "      <td>4.69713</td>\n",
       "      <td>4.67445</td>\n",
       "      <td>319,202</td>\n",
       "      <td>-</td>\n",
       "      <td>-</td>\n",
       "    </tr>\n",
       "  </tbody>\n",
       "</table>\n",
       "</div>"
      ],
      "text/plain": [
       "  Financial instrument  Current price Change(%)     Open     High      Low  \\\n",
       "0              AUD/CAD        0.91530    -0.12%  0.91650  0.91710  0.91380   \n",
       "1              AUD/CHF        0.57110    +0.56%  0.56790  0.57320  0.56670   \n",
       "2              AUD/CNH        4.68318    -0.01%  4.68361  4.69713  4.67445   \n",
       "\n",
       "    Volume Cap. Issued Cap.  \n",
       "0   86,310    -           -  \n",
       "1   88,365    -           -  \n",
       "2  319,202    -           -  "
      ]
     },
     "execution_count": 191,
     "metadata": {},
     "output_type": "execute_result"
    }
   ],
   "source": [
    "df.head(3)"
   ]
  },
  {
   "cell_type": "code",
   "execution_count": 192,
   "metadata": {},
   "outputs": [],
   "source": [
    "# Pre-process data\n",
    "column_names = list(df.columns)\n",
    "pairs = df[column_names[0]].unique()\n",
    "currency_set = set()\n",
    "for pair in pairs:\n",
    "    # create nodes\n",
    "    numerator, denominator = str(pair).split(\"/\")\n",
    "    currency_set.add(numerator)\n",
    "    currency_set.add(denominator)\n",
    "currencies = list(currency_set)"
   ]
  },
  {
   "cell_type": "code",
   "execution_count": 193,
   "metadata": {},
   "outputs": [
    {
     "data": {
      "text/plain": [
       "['USD',\n",
       " 'CAD',\n",
       " 'CHF',\n",
       " 'CNH',\n",
       " 'CZK',\n",
       " 'DKK',\n",
       " 'EUR',\n",
       " 'GBP',\n",
       " 'HKD',\n",
       " 'HUF',\n",
       " 'ILS',\n",
       " 'JPY',\n",
       " 'MXN',\n",
       " 'NOK',\n",
       " 'NZD',\n",
       " 'PLN',\n",
       " 'SEK',\n",
       " 'SGD',\n",
       " 'TRY',\n",
       " 'AUD',\n",
       " 'ZAR']"
      ]
     },
     "execution_count": 193,
     "metadata": {},
     "output_type": "execute_result"
    }
   ],
   "source": [
    "# Swap USD (or any chosen base currency) to the first element\n",
    "currencies.sort()\n",
    "index = bisect_left(currencies, 'USD')\n",
    "tmp = currencies[0]\n",
    "currencies[0] = 'USD'\n",
    "currencies[index] = tmp\n",
    "currencies"
   ]
  },
  {
   "cell_type": "code",
   "execution_count": 194,
   "metadata": {},
   "outputs": [],
   "source": [
    "# Mapping currency to index\n",
    "index_mappings : Dict[str, int] = { key: i for i, key in enumerate(currencies) }"
   ]
  },
  {
   "cell_type": "code",
   "execution_count": 195,
   "metadata": {},
   "outputs": [],
   "source": [
    "fx_rates = [[0.0 for j in range(len(currencies))]\n",
    "            for i in range(len(currencies))]\n",
    "\n",
    "for i in range(len(currencies)):\n",
    "    fx_rates[i][i] = 1.0\n",
    "\n",
    "# Analysis on the current price\n",
    "for index, row in df.iterrows():\n",
    "    pair = row[column_names[0]]\n",
    "    numerator, denominator = str(pair).split(\"/\")\n",
    "    numIndex, denomIndex = index_mappings[numerator], index_mappings[denominator]\n",
    "    fx_rates[numIndex][denomIndex] = row[\"Current price\"]\n",
    "\n",
    "\n",
    "for i in range(len(currencies) - 1):\n",
    "    for j in range(i + 1, len(currencies)):\n",
    "        if fx_rates[i][j] == 0 and fx_rates[j][i] != 0:\n",
    "            fx_rates[i][j] = 1 / fx_rates[j][i] \n",
    "        elif fx_rates[i][j] != 0 and fx_rates[j][i] == 0:\n",
    "            fx_rates[j][i] = 1 / fx_rates[i][j] \n",
    "\n",
    "\n",
    "# for r in fx_rates:\n",
    "#     print(r)\n",
    "# print(fx_rates)"
   ]
  },
  {
   "cell_type": "markdown",
   "metadata": {},
   "source": [
    "Step 1: Convert FX rates to negative log weights\n",
    "\n",
    "Suppose we have 3 currencies USD, EUR, and VND. To get the pair USD/VND, we multiply USD/EUR and EUR/VND. However, Bellman-Ford algorithm doesn't allow multiplication. Therefore, we utilize the logarithm property: `log(a) + log(b) = log(a*b)` to represent the edges.\n",
    "\n",
    "With these edges, an arbitrage is a cycle with positive weight. Since Bellman-Ford algorithm is capable of finding negative-weight cycle, converting the edge weights to negative log should help us finding this cycle."
   ]
  },
  {
   "cell_type": "code",
   "execution_count": 196,
   "metadata": {},
   "outputs": [],
   "source": [
    "vertices = len(fx_rates)\n",
    "edges = []\n",
    "\n",
    "for i in range(vertices):\n",
    "    for j in range(vertices):\n",
    "        if i != j and fx_rates[i][j] != 0:\n",
    "            weight = -math.log(fx_rates[i][j])\n",
    "            edges.append((i, j, weight))"
   ]
  },
  {
   "cell_type": "markdown",
   "metadata": {},
   "source": [
    "Helper function to trace the negative cycle path"
   ]
  },
  {
   "cell_type": "code",
   "execution_count": 197,
   "metadata": {},
   "outputs": [],
   "source": [
    "def trace_negative_cycle(predecessor, start, vertices):\n",
    "    cycle = []\n",
    "    x = start\n",
    "\n",
    "    # Move x back for a few steps in the cycle to ensure we reach the start of the cycle\n",
    "    for _ in range(vertices):\n",
    "        x = predecessor[x]\n",
    "\n",
    "    # Trace the cycle\n",
    "    cycle_start = x\n",
    "    while True:\n",
    "        cycle.append(x)\n",
    "        x = predecessor[x]\n",
    "        if x == cycle_start and len(cycle) > 1:\n",
    "            cycle.append(x)  # Closing the cycle for clarity\n",
    "            break\n",
    "\n",
    "    cycle = list(reversed(cycle))\n",
    "    cycle_str = [currencies[s] for s in cycle]\n",
    "    # cycles.add('->'.join(str(x) for x in cycle))\n",
    "    return '->'.join(cycle_str)"
   ]
  },
  {
   "cell_type": "markdown",
   "metadata": {},
   "source": [
    "Step 2: Bellman-Ford function to detect negative cycles"
   ]
  },
  {
   "cell_type": "code",
   "execution_count": 198,
   "metadata": {},
   "outputs": [],
   "source": [
    "def bellman_ford(vertices, edges, start):\n",
    "    distance = [float(\"inf\")] * vertices\n",
    "    predecessor = [-1] * vertices\n",
    "    distance[start] = 0\n",
    "\n",
    "    # Relax edges (V-1) times\n",
    "    for _ in range(vertices - 1):\n",
    "        for u, v, weight in edges:\n",
    "            if distance[u] != float(\"inf\") and weight != 0 and distance[u] + weight < distance[v]:\n",
    "                distance[v] = distance[u] + weight\n",
    "                predecessor[v] = u\n",
    "\n",
    "    # Check for negative cycle and trace it\n",
    "    has_arbitrage = False\n",
    "    for u, v, weight in edges:\n",
    "        if distance[u] != float(\"inf\") and weight != 0 and distance[u] + weight < distance[v]:\n",
    "            # Trace the negative cycle detected\n",
    "            has_arbitrage = True\n",
    "            return has_arbitrage, trace_negative_cycle(predecessor, v, vertices)\n",
    "\n",
    "    return has_arbitrage, \"\""
   ]
  },
  {
   "cell_type": "code",
   "execution_count": 199,
   "metadata": {},
   "outputs": [
    {
     "name": "stdout",
     "output_type": "stream",
     "text": [
      "Arbitrage opportunity detected in cycle.\n",
      "Cycle: PLN->JPY->MXN->AUD->PLN\n",
      "\tAmount: 100.02971275897569\n",
      "Profit:  2.97 pips\n"
     ]
    }
   ],
   "source": [
    "# Running the Bellman-Ford algorithm from start vertex (0/USD)\n",
    "has_arbitrage, cycle = bellman_ford(vertices, edges, 0)\n",
    "if has_arbitrage:\n",
    "    print(\"Arbitrage opportunity detected in cycle.\")\n",
    "    amount = 100\n",
    "    orders = cycle.split(\"->\")\n",
    "    for i in range(1, len(orders)):\n",
    "        prev, cur = orders[i-1], orders[i]\n",
    "        amount *= fx_rates[index_mappings[prev]][index_mappings[cur]]\n",
    "    print(\"Cycle:\", cycle)\n",
    "    print(\"\\tAmount:\", amount)\n",
    "    print(\"Profit: \", round((amount - 100) * 100, 2), \"pips\")\n",
    "else:\n",
    "    print(\"No arbitrage opportunity detected\")"
   ]
  }
 ],
 "metadata": {
  "kernelspec": {
   "display_name": "base",
   "language": "python",
   "name": "python3"
  },
  "language_info": {
   "codemirror_mode": {
    "name": "ipython",
    "version": 3
   },
   "file_extension": ".py",
   "mimetype": "text/x-python",
   "name": "python",
   "nbconvert_exporter": "python",
   "pygments_lexer": "ipython3",
   "version": "3.9.13"
  }
 },
 "nbformat": 4,
 "nbformat_minor": 2
}
